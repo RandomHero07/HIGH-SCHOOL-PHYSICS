{
  "nbformat": 4,
  "nbformat_minor": 0,
  "metadata": {
    "colab": {
      "provenance": []
    },
    "kernelspec": {
      "name": "python3",
      "display_name": "Python 3"
    },
    "language_info": {
      "name": "python"
    }
  },
  "cells": [
    {
      "cell_type": "code",
      "execution_count": null,
      "metadata": {
        "id": "tLPhApO-181D"
      },
      "outputs": [],
      "source": [
        "############# GO TO END OF FILE FOR SIMULATING DIRECTLY FOR WANTED N1 AND N2 :-)\n",
        "import numpy as np\n",
        "import matplotlib.pyplot as plt\n",
        "import imageio.v2 as imageio\n",
        "import os\n",
        "############## USING SNELL'S LAW TO CALCULATE APPROPRIATE ANGLES\n",
        "def snell_law(n1, n2, theta1_deg):\n",
        "    theta1 = np.radians(theta1_deg)\n",
        "    sin_theta2 = n1 / n2 * np.sin(theta1)\n",
        "    if abs(sin_theta2) > 1:\n",
        "        return None  # Total internal reflection\n",
        "    theta2 = np.arcsin(sin_theta2)\n",
        "    return np.degrees(theta2)\n",
        "############## FUNCTION TO DRAW THE RAY (ax.arrow is used with 0 body to show which way the light ray is pointing)\n",
        "def draw_ray(ax, origin, angle_deg, length, color, label=None):\n",
        "    angle_rad = np.radians(angle_deg)\n",
        "    x = [origin[0], origin[0] + length * np.sin(angle_rad)]\n",
        "    y = [origin[1], origin[1] + length * np.cos(angle_rad)]\n",
        "    ax.plot(x, y, color=color, label=label, linewidth=2)\n",
        "    ax.arrow(x[1], y[1], 0, 0, head_width=0.15, head_length=0.25, fc=color, ec=color)\n",
        "############### FUNCTION TO SIMULATE (show) WHOLE SETUP (INCIDENT - REFREACTED/REFLECTED RAYS ,LEGEND etc...)\n",
        "def simulate_frame(n1, n2, angle_of_incidence_deg, filename):\n",
        "    ##setting up the canvas\n",
        "    fig, ax = plt.subplots()\n",
        "    ax.set_xlim(-5, 5)\n",
        "    ax.set_ylim(-3, 6)\n",
        "    ax.set_aspect('equal')\n",
        "    ax.axhline(0, color='black', linestyle='--')\n",
        "    ax.text(-4.8, 0.2, 'Interface', fontsize=10)\n",
        "    ## DRAWING THE INCIDENT RAY\n",
        "    length = 2.5\n",
        "    theta_rad = np.radians(angle_of_incidence_deg)\n",
        "    start_x = -length * np.sin(theta_rad)\n",
        "    start_y = -length * np.cos(theta_rad)\n",
        "    draw_ray(ax, origin=(start_x, start_y), angle_deg=angle_of_incidence_deg, length=length, color='blue', label='Incident Ray')\n",
        "    theta2 = snell_law(n1, n2, angle_of_incidence_deg)\n",
        "    ## DRAWING THE REFLECTED/REFRACTED RAY\n",
        "    if theta2 is None:\n",
        "        reflected_angle = 180 - angle_of_incidence_deg\n",
        "        draw_ray(ax, origin=(0, 0), angle_deg=reflected_angle, length=2.5, color='red', label='TIR Ray')\n",
        "        ax.text(-4.5, 5.3, 'Total Internal Reflection!', fontsize=12, color='red')\n",
        "    else:\n",
        "        draw_ray(ax, origin=(0, 0), angle_deg=theta2, length=3, color='green', label='Refracted Ray')\n",
        "\n",
        "    ax.legend()\n",
        "    ax.set_title(f\"n1 = {n1}, n2 = {n2}, Incident Angle = {angle_of_incidence_deg}°\")\n",
        "    plt.grid(True)\n",
        "    plt.savefig(filename)\n",
        "    plt.close()\n",
        "########SAVING FILE/ PLOT IMAGES TO VIDEO FILE\n",
        "def create_video(n1, n2, output_file='refraction_video.mp4'):\n",
        "    filenames = []\n",
        "    for angle in range(1, 91):  # 1° to 90°\n",
        "        fname = f\"frame_{angle:03d}.png\"\n",
        "        simulate_frame(n1, n2, angle, fname)\n",
        "        filenames.append(fname)\n",
        "\n",
        "    with imageio.get_writer(output_file, fps=10) as writer:\n",
        "        for fname in filenames:\n",
        "            image = imageio.imread(fname)\n",
        "            writer.append_data(image)\n",
        "    for fname in filenames:\n",
        "        os.remove(fname)\n",
        "\n",
        "    print(f\"Video saved to {output_file}\")\n",
        "\n",
        "####################### HERE!!!!!!!!!!!!!!!!!!! Call this to generate the video\n",
        "create_video(n1=1.732, n2=1.0)\n"
      ]
    }
  ]
}