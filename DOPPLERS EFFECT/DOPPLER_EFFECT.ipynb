{
  "nbformat": 4,
  "nbformat_minor": 0,
  "metadata": {
    "colab": {
      "provenance": []
    },
    "kernelspec": {
      "name": "python3",
      "display_name": "Python 3"
    },
    "language_info": {
      "name": "python"
    }
  },
  "cells": [
    {
      "cell_type": "code",
      "execution_count": 10,
      "metadata": {
        "colab": {
          "base_uri": "https://localhost:8080/"
        },
        "id": "92zR7Al5DKda",
        "outputId": "62dcb775-7aa5-4efb-c977-8e44c5fabd6b"
      },
      "outputs": [
        {
          "output_type": "stream",
          "name": "stderr",
          "text": [
            "WARNING:imageio_ffmpeg:IMAGEIO FFMPEG_WRITER WARNING: input image is not divisible by macro_block_size=16, resizing from (600, 600) to (608, 608) to ensure video compatibility with most codecs and players. To prevent resizing, make your input image divisible by the macro_block_size or set the macro_block_size to 1 (risking incompatibility).\n"
          ]
        },
        {
          "output_type": "stream",
          "name": "stdout",
          "text": [
            "Video saved to doppler_video.mp4\n"
          ]
        }
      ],
      "source": [
        "###########################SIMULATING DOPPLER EFFECT\n",
        "import numpy as np\n",
        "import matplotlib.pyplot as plt\n",
        "import imageio.v2 as imageio\n",
        "import os\n",
        "\n",
        "# Draw one frame of the Doppler effect\n",
        "def simulate_doppler_frame(wave_speed, frequency, source_speed, t, fname):\n",
        "    source_velocity = source_speed * wave_speed\n",
        "\n",
        "    fig, ax = plt.subplots(figsize=(6, 6))\n",
        "    ax.set_xlim(-8, 8)\n",
        "    ax.set_ylim(-2, 14)\n",
        "    ax.set_aspect('equal')\n",
        "    ax.set_title(f\"Doppler Effect Simulation\\nTime: {t:.2f}s\")\n",
        "    ax.axhline(0, color='black', linestyle='--')\n",
        "\n",
        "    # Observer (green)\n",
        "    observer_pos = (5, 0)\n",
        "    ax.plot(*observer_pos, 'go', label='Observer')\n",
        "\n",
        "    # Source (red)\n",
        "    source_pos = (-5 + source_velocity * t, 0)\n",
        "    ax.plot(*source_pos, 'ro', label='Source')\n",
        "\n",
        "    # Wavefronts (blue)\n",
        "    num_waves = int(frequency * t)\n",
        "    for j in range(num_waves):\n",
        "        t_emit = j / frequency\n",
        "        radius = wave_speed * (t - t_emit)\n",
        "        if radius > 0:\n",
        "            wave_origin = (-5 + source_velocity * t_emit, 0)\n",
        "            circle = plt.Circle(wave_origin, radius, color='blue', fill=False, linewidth=1)\n",
        "            ax.add_patch(circle)\n",
        "\n",
        "    ax.legend(loc='upper left')\n",
        "    fig.savefig(fname)\n",
        "    plt.close(fig)\n",
        "\n",
        "#########SAVING FILE/ PLOT IMAGES TO VIDEO FILE\n",
        "def create_doppler_video(wave_speed, frequency, source_speed, duration=5.0, fps=10, output_file='doppler_video.mp4'):\n",
        "    filenames = []\n",
        "    num_frames = int(duration * fps)\n",
        "    time_steps = np.linspace(0, duration, num_frames)\n",
        "\n",
        "    for i, t in enumerate(time_steps):\n",
        "        fname = f\"doppler_frame_{i:03d}.png\"\n",
        "        simulate_doppler_frame(wave_speed, frequency, source_speed, t, fname)\n",
        "        filenames.append(fname)\n",
        "\n",
        "    with imageio.get_writer(output_file, fps=fps) as writer:\n",
        "        for fname in filenames:\n",
        "            image = imageio.imread(fname)\n",
        "            writer.append_data(image)\n",
        "\n",
        "    for fname in filenames:\n",
        "        os.remove(fname)\n",
        "\n",
        "    print(f\"Video saved to {output_file}\")\n",
        "\n",
        "######################## HERE!!!!!!!!!!!!!!!!!!! Call this to generate the video\n",
        "create_doppler_video(wave_speed=1.5, frequency=2.0, source_speed=-0.5, duration=15, fps=10)\n"
      ]
    }
  ]
}